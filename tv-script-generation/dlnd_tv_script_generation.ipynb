{
 "cells": [
  {
   "cell_type": "markdown",
   "metadata": {
    "deletable": true,
    "editable": true
   },
   "source": [
    "# TV Script Generation\n",
    "In this project, you'll generate your own [Simpsons](https://en.wikipedia.org/wiki/The_Simpsons) TV scripts using RNNs.  You'll be using part of the [Simpsons dataset](https://www.kaggle.com/wcukierski/the-simpsons-by-the-data) of scripts from 27 seasons.  The Neural Network you'll build will generate a new TV script for a scene at [Moe's Tavern](https://simpsonswiki.com/wiki/Moe's_Tavern).\n",
    "## Get the Data\n",
    "The data is already provided for you.  You'll be using a subset of the original dataset.  It consists of only the scenes in Moe's Tavern.  This doesn't include other versions of the tavern, like \"Moe's Cavern\", \"Flaming Moe's\", \"Uncle Moe's Family Feed-Bag\", etc.."
   ]
  },
  {
   "cell_type": "code",
   "execution_count": 1,
   "metadata": {
    "collapsed": true,
    "deletable": true,
    "editable": true
   },
   "outputs": [],
   "source": [
    "\"\"\"\n",
    "DON'T MODIFY ANYTHING IN THIS CELL\n",
    "\"\"\"\n",
    "import helper\n",
    "\n",
    "data_dir = './data/simpsons/moes_tavern_lines.txt'\n",
    "text = helper.load_data(data_dir)\n",
    "# Ignore notice, since we don't use it for analysing the data\n",
    "text = text[81:]"
   ]
  },
  {
   "cell_type": "markdown",
   "metadata": {
    "deletable": true,
    "editable": true
   },
   "source": [
    "## Explore the Data\n",
    "Play around with `view_sentence_range` to view different parts of the data."
   ]
  },
  {
   "cell_type": "code",
   "execution_count": 2,
   "metadata": {
    "collapsed": false,
    "deletable": true,
    "editable": true
   },
   "outputs": [
    {
     "name": "stdout",
     "output_type": "stream",
     "text": [
      "Dataset Stats\n",
      "Roughly the number of unique words: 11492\n",
      "Number of scenes: 262\n",
      "Average number of sentences in each scene: 15.248091603053435\n",
      "Number of lines: 4257\n",
      "Average number of words in each line: 11.50434578341555\n",
      "\n",
      "The sentences 0 to 10:\n",
      "Moe_Szyslak: (INTO PHONE) Moe's Tavern. Where the elite meet to drink.\n",
      "Bart_Simpson: Eh, yeah, hello, is Mike there? Last name, Rotch.\n",
      "Moe_Szyslak: (INTO PHONE) Hold on, I'll check. (TO BARFLIES) Mike Rotch. Mike Rotch. Hey, has anybody seen Mike Rotch, lately?\n",
      "Moe_Szyslak: (INTO PHONE) Listen you little puke. One of these days I'm gonna catch you, and I'm gonna carve my name on your back with an ice pick.\n",
      "Moe_Szyslak: What's the matter Homer? You're not your normal effervescent self.\n",
      "Homer_Simpson: I got my problems, Moe. Give me another one.\n",
      "Moe_Szyslak: Homer, hey, you should not drink to forget your problems.\n",
      "Barney_Gumble: Yeah, you should only drink to enhance your social skills.\n",
      "\n",
      "\n"
     ]
    }
   ],
   "source": [
    "view_sentence_range = (0, 10)\n",
    "\n",
    "\"\"\"\n",
    "DON'T MODIFY ANYTHING IN THIS CELL\n",
    "\"\"\"\n",
    "import numpy as np\n",
    "\n",
    "print('Dataset Stats')\n",
    "print('Roughly the number of unique words: {}'.format(len({word: None for word in text.split()})))\n",
    "scenes = text.split('\\n\\n')\n",
    "print('Number of scenes: {}'.format(len(scenes)))\n",
    "sentence_count_scene = [scene.count('\\n') for scene in scenes]\n",
    "print('Average number of sentences in each scene: {}'.format(np.average(sentence_count_scene)))\n",
    "\n",
    "sentences = [sentence for scene in scenes for sentence in scene.split('\\n')]\n",
    "print('Number of lines: {}'.format(len(sentences)))\n",
    "word_count_sentence = [len(sentence.split()) for sentence in sentences]\n",
    "print('Average number of words in each line: {}'.format(np.average(word_count_sentence)))\n",
    "\n",
    "print()\n",
    "print('The sentences {} to {}:'.format(*view_sentence_range))\n",
    "print('\\n'.join(text.split('\\n')[view_sentence_range[0]:view_sentence_range[1]]))"
   ]
  },
  {
   "cell_type": "markdown",
   "metadata": {
    "deletable": true,
    "editable": true
   },
   "source": [
    "## Implement Preprocessing Functions\n",
    "The first thing to do to any dataset is preprocessing.  Implement the following preprocessing functions below:\n",
    "- Lookup Table\n",
    "- Tokenize Punctuation\n",
    "\n",
    "### Lookup Table\n",
    "To create a word embedding, you first need to transform the words to ids.  In this function, create two dictionaries:\n",
    "- Dictionary to go from the words to an id, we'll call `vocab_to_int`\n",
    "- Dictionary to go from the id to word, we'll call `int_to_vocab`\n",
    "\n",
    "Return these dictionaries in the following tuple `(vocab_to_int, int_to_vocab)`"
   ]
  },
  {
   "cell_type": "code",
   "execution_count": 3,
   "metadata": {
    "collapsed": false,
    "deletable": true,
    "editable": true
   },
   "outputs": [
    {
     "name": "stdout",
     "output_type": "stream",
     "text": [
      "Tests Passed\n"
     ]
    }
   ],
   "source": [
    "import numpy as np\n",
    "import problem_unittests as tests\n",
    "\n",
    "def create_lookup_tables(text):\n",
    "    \"\"\"\n",
    "    Create lookup tables for vocabulary\n",
    "    :param text: The text of tv scripts split into words\n",
    "    :return: A tuple of dicts (vocab_to_int, int_to_vocab)\n",
    "    \"\"\"\n",
    "    \n",
    "    # Get unique words\n",
    "    vocab = set(text)\n",
    "    \n",
    "    # Enumerate vocab to get int\n",
    "    vocab_to_int = {c: i for i, c in enumerate(vocab)}\n",
    "    \n",
    "    # Inverse function\n",
    "    int_to_vocab = dict(enumerate(vocab))\n",
    "    \n",
    "    # Return tuple of dictionaries\n",
    "    return (vocab_to_int, int_to_vocab)\n",
    "\n",
    "\n",
    "\"\"\"\n",
    "DON'T MODIFY ANYTHING IN THIS CELL THAT IS BELOW THIS LINE\n",
    "\"\"\"\n",
    "tests.test_create_lookup_tables(create_lookup_tables)"
   ]
  },
  {
   "cell_type": "markdown",
   "metadata": {
    "deletable": true,
    "editable": true
   },
   "source": [
    "### Tokenize Punctuation\n",
    "We'll be splitting the script into a word array using spaces as delimiters.  However, punctuations like periods and exclamation marks make it hard for the neural network to distinguish between the word \"bye\" and \"bye!\".\n",
    "\n",
    "Implement the function `token_lookup` to return a dict that will be used to tokenize symbols like \"!\" into \"||Exclamation_Mark||\".  Create a dictionary for the following symbols where the symbol is the key and value is the token:\n",
    "- Period ( . )\n",
    "- Comma ( , )\n",
    "- Quotation Mark ( \" )\n",
    "- Semicolon ( ; )\n",
    "- Exclamation mark ( ! )\n",
    "- Question mark ( ? )\n",
    "- Left Parentheses ( ( )\n",
    "- Right Parentheses ( ) )\n",
    "- Dash ( -- )\n",
    "- Return ( \\n )\n",
    "\n",
    "This dictionary will be used to token the symbols and add the delimiter (space) around it.  This separates the symbols as it's own word, making it easier for the neural network to predict on the next word. Make sure you don't use a token that could be confused as a word. Instead of using the token \"dash\", try using something like \"||dash||\"."
   ]
  },
  {
   "cell_type": "code",
   "execution_count": 4,
   "metadata": {
    "collapsed": false,
    "deletable": true,
    "editable": true
   },
   "outputs": [
    {
     "name": "stdout",
     "output_type": "stream",
     "text": [
      "Tests Passed\n"
     ]
    }
   ],
   "source": [
    "def token_lookup():\n",
    "    \"\"\"\n",
    "    Generate a dict to turn punctuation into a token.\n",
    "    :return: Tokenize dictionary where the key is the punctuation and the value is the token\n",
    "    \"\"\"\n",
    "    \n",
    "    # Use list outlined above to build a dictionary to get tokens\n",
    "    punctuation_tokens = {\n",
    "         '.'     : 'Period'\n",
    "        ,','     : 'Comma'\n",
    "        ,'\"'     : 'Quotation_Mark' \n",
    "        ,';'     : 'Semicolon' \n",
    "        ,'!'     : 'Exclamation_Mark'\n",
    "        ,'?'     : 'Question_Mark' \n",
    "        ,'('     : 'Left_Parentheses'\n",
    "        ,')'     : 'Right_Parentheses'\n",
    "        ,'--'    : 'Dash'\n",
    "        ,'\\n'    : 'Return'\n",
    "    }\n",
    "    \n",
    "    return punctuation_tokens\n",
    "\n",
    "\"\"\"\n",
    "DON'T MODIFY ANYTHING IN THIS CELL THAT IS BELOW THIS LINE\n",
    "\"\"\"\n",
    "tests.test_tokenize(token_lookup)"
   ]
  },
  {
   "cell_type": "markdown",
   "metadata": {
    "deletable": true,
    "editable": true
   },
   "source": [
    "## Preprocess all the data and save it\n",
    "Running the code cell below will preprocess all the data and save it to file."
   ]
  },
  {
   "cell_type": "code",
   "execution_count": 5,
   "metadata": {
    "collapsed": true,
    "deletable": true,
    "editable": true
   },
   "outputs": [],
   "source": [
    "\"\"\"\n",
    "DON'T MODIFY ANYTHING IN THIS CELL\n",
    "\"\"\"\n",
    "# Preprocess Training, Validation, and Testing Data\n",
    "helper.preprocess_and_save_data(data_dir, token_lookup, create_lookup_tables)"
   ]
  },
  {
   "cell_type": "markdown",
   "metadata": {
    "deletable": true,
    "editable": true
   },
   "source": [
    "# Check Point\n",
    "This is your first checkpoint. If you ever decide to come back to this notebook or have to restart the notebook, you can start from here. The preprocessed data has been saved to disk."
   ]
  },
  {
   "cell_type": "code",
   "execution_count": 6,
   "metadata": {
    "collapsed": true,
    "deletable": true,
    "editable": true
   },
   "outputs": [],
   "source": [
    "\"\"\"\n",
    "DON'T MODIFY ANYTHING IN THIS CELL\n",
    "\"\"\"\n",
    "import helper\n",
    "import numpy as np\n",
    "import problem_unittests as tests\n",
    "\n",
    "int_text, vocab_to_int, int_to_vocab, token_dict = helper.load_preprocess()"
   ]
  },
  {
   "cell_type": "markdown",
   "metadata": {
    "deletable": true,
    "editable": true
   },
   "source": [
    "## Build the Neural Network\n",
    "You'll build the components necessary to build a RNN by implementing the following functions below:\n",
    "- get_inputs\n",
    "- get_init_cell\n",
    "- get_embed\n",
    "- build_rnn\n",
    "- build_nn\n",
    "- get_batches\n",
    "\n",
    "### Check the Version of TensorFlow and Access to GPU"
   ]
  },
  {
   "cell_type": "code",
   "execution_count": 7,
   "metadata": {
    "collapsed": false,
    "deletable": true,
    "editable": true
   },
   "outputs": [
    {
     "name": "stdout",
     "output_type": "stream",
     "text": [
      "TensorFlow Version: 1.0.0\n",
      "Default GPU Device: /gpu:0\n"
     ]
    }
   ],
   "source": [
    "\"\"\"\n",
    "DON'T MODIFY ANYTHING IN THIS CELL\n",
    "\"\"\"\n",
    "from distutils.version import LooseVersion\n",
    "import warnings\n",
    "import tensorflow as tf\n",
    "\n",
    "# Check TensorFlow Version\n",
    "assert LooseVersion(tf.__version__) >= LooseVersion('1.0'), 'Please use TensorFlow version 1.0 or newer'\n",
    "print('TensorFlow Version: {}'.format(tf.__version__))\n",
    "\n",
    "# Check for a GPU\n",
    "if not tf.test.gpu_device_name():\n",
    "    warnings.warn('No GPU found. Please use a GPU to train your neural network.')\n",
    "else:\n",
    "    print('Default GPU Device: {}'.format(tf.test.gpu_device_name()))"
   ]
  },
  {
   "cell_type": "markdown",
   "metadata": {
    "deletable": true,
    "editable": true
   },
   "source": [
    "### Input\n",
    "Implement the `get_inputs()` function to create TF Placeholders for the Neural Network.  It should create the following placeholders:\n",
    "- Input text placeholder named \"input\" using the [TF Placeholder](https://www.tensorflow.org/api_docs/python/tf/placeholder) `name` parameter.\n",
    "- Targets placeholder\n",
    "- Learning Rate placeholder\n",
    "\n",
    "Return the placeholders in the following tuple `(Input, Targets, LearningRate)`"
   ]
  },
  {
   "cell_type": "code",
   "execution_count": 8,
   "metadata": {
    "collapsed": false,
    "deletable": true,
    "editable": true
   },
   "outputs": [
    {
     "name": "stdout",
     "output_type": "stream",
     "text": [
      "Tests Passed\n"
     ]
    }
   ],
   "source": [
    "def get_inputs():\n",
    "    \"\"\"\n",
    "    Create TF Placeholders for input, targets, and learning rate.\n",
    "    :return: Tuple (input, targets, learning rate)\n",
    "    \"\"\"\n",
    "    # Build placeholders for feed dicts\n",
    "    inputs = tf.placeholder(tf.int32, [None, None], name='input')\n",
    "    targets = tf.placeholder(tf.int32, [None, None], name='targets')\n",
    "    learning_rate = tf.placeholder(tf.float32, name='learning_rate')\n",
    "    \n",
    "    return (inputs, targets, learning_rate)\n",
    "\n",
    "\n",
    "\"\"\"\n",
    "DON'T MODIFY ANYTHING IN THIS CELL THAT IS BELOW THIS LINE\n",
    "\"\"\"\n",
    "tests.test_get_inputs(get_inputs)"
   ]
  },
  {
   "cell_type": "markdown",
   "metadata": {
    "deletable": true,
    "editable": true
   },
   "source": [
    "### Build RNN Cell and Initialize\n",
    "Stack one or more [`BasicLSTMCells`](https://www.tensorflow.org/api_docs/python/tf/contrib/rnn/BasicLSTMCell) in a [`MultiRNNCell`](https://www.tensorflow.org/api_docs/python/tf/contrib/rnn/MultiRNNCell).\n",
    "- The Rnn size should be set using `rnn_size`\n",
    "- Initalize Cell State using the MultiRNNCell's [`zero_state()`](https://www.tensorflow.org/api_docs/python/tf/contrib/rnn/MultiRNNCell#zero_state) function\n",
    "    - Apply the name \"initial_state\" to the initial state using [`tf.identity()`](https://www.tensorflow.org/api_docs/python/tf/identity)\n",
    "\n",
    "Return the cell and initial state in the following tuple `(Cell, InitialState)`"
   ]
  },
  {
   "cell_type": "code",
   "execution_count": 9,
   "metadata": {
    "collapsed": false,
    "deletable": true,
    "editable": true
   },
   "outputs": [
    {
     "name": "stdout",
     "output_type": "stream",
     "text": [
      "Tests Passed\n"
     ]
    }
   ],
   "source": [
    "def get_init_cell(batch_size, rnn_size, num_layers=2 , kp = 0.5):\n",
    "    \"\"\"\n",
    "    Create an RNN Cell and initialize it.\n",
    "    :param batch_size: Size of batches\n",
    "    :param rnn_size: Size of RNNs\n",
    "    :return: Tuple (cell, initialize state)\n",
    "    \"\"\"\n",
    "   \n",
    "    with tf.name_scope(\"RNN_cells\"):\n",
    "        \n",
    "        # Make function to ensure constructor is called to create multiple LSTM cells\n",
    "        def build_rnn_cell(rnn_size, keep_prob):\n",
    "            \n",
    "            # Build LSTM cells\n",
    "            lstmCell = tf.contrib.rnn.BasicLSTMCell(rnn_size, state_is_tuple=True) \n",
    "            \n",
    "            #Add dropout wrapper to each LSTM layer\n",
    "            drop = tf.contrib.rnn.DropoutWrapper(lstmCell, output_keep_prob=keep_prob)\n",
    "            return drop\n",
    "        \n",
    "        # List comprension to create list of LSTM cells\n",
    "        stacked_lstm = tf.contrib.rnn.MultiRNNCell([build_rnn_cell(rnn_size, kp) for _ in range(num_layers)], state_is_tuple=True)\n",
    "    \n",
    "    # Save initial state and ensure its named appropriately\n",
    "    initial_state = tf.identity(stacked_lstm.zero_state(batch_size, tf.float32), name='initial_state')\n",
    "        \n",
    "    return (stacked_lstm, initial_state)\n",
    "\n",
    "\n",
    "\"\"\"\n",
    "DON'T MODIFY ANYTHING IN THIS CELL THAT IS BELOW THIS LINE\n",
    "\"\"\"\n",
    "tests.test_get_init_cell(get_init_cell)"
   ]
  },
  {
   "cell_type": "markdown",
   "metadata": {
    "deletable": true,
    "editable": true
   },
   "source": [
    "### Word Embedding\n",
    "Apply embedding to `input_data` using TensorFlow.  Return the embedded sequence."
   ]
  },
  {
   "cell_type": "code",
   "execution_count": 10,
   "metadata": {
    "collapsed": false,
    "deletable": true,
    "editable": true
   },
   "outputs": [
    {
     "name": "stdout",
     "output_type": "stream",
     "text": [
      "Tests Passed\n"
     ]
    }
   ],
   "source": [
    "def get_embed(input_data, vocab_size, embed_dim):\n",
    "    \"\"\"\n",
    "    Create embedding for <input_data>.\n",
    "    :param input_data: TF placeholder for text input.\n",
    "    :param vocab_size: Number of words in vocabulary.\n",
    "    :param embed_dim: Number of embedding dimensions\n",
    "    :return: Embedded input.\n",
    "    \"\"\"\n",
    "    \n",
    "    # Initialize variable weights and use TF's embedding function\n",
    "    with tf.name_scope(\"embedding\"): \n",
    "        embedding = tf.Variable(tf.random_uniform((vocab_size, embed_dim), -1, 1))\n",
    "        embed = tf.nn.embedding_lookup(embedding, input_data)\n",
    "    \n",
    "    return embed\n",
    "\n",
    "\n",
    "\"\"\"\n",
    "DON'T MODIFY ANYTHING IN THIS CELL THAT IS BELOW THIS LINE\n",
    "\"\"\"\n",
    "tests.test_get_embed(get_embed)"
   ]
  },
  {
   "cell_type": "markdown",
   "metadata": {
    "deletable": true,
    "editable": true
   },
   "source": [
    "### Build RNN\n",
    "You created a RNN Cell in the `get_init_cell()` function.  Time to use the cell to create a RNN.\n",
    "- Build the RNN using the [`tf.nn.dynamic_rnn()`](https://www.tensorflow.org/api_docs/python/tf/nn/dynamic_rnn)\n",
    " - Apply the name \"final_state\" to the final state using [`tf.identity()`](https://www.tensorflow.org/api_docs/python/tf/identity)\n",
    "\n",
    "Return the outputs and final_state state in the following tuple `(Outputs, FinalState)` "
   ]
  },
  {
   "cell_type": "code",
   "execution_count": 11,
   "metadata": {
    "collapsed": false,
    "deletable": true,
    "editable": true
   },
   "outputs": [
    {
     "name": "stdout",
     "output_type": "stream",
     "text": [
      "Tests Passed\n"
     ]
    }
   ],
   "source": [
    "def build_rnn(cell, inputs):\n",
    "    \"\"\"\n",
    "    Create a RNN using a RNN Cell\n",
    "    :param cell: RNN Cell\n",
    "    :param inputs: Input text data\n",
    "    :return: Tuple (Outputs, Final State)\n",
    "    \"\"\"\n",
    "    \n",
    "    \n",
    "    # Build RNN and save final state\n",
    "    with tf.name_scope(\"RNN_forward\"):\n",
    "        outputs, state = tf.nn.dynamic_rnn(cell, inputs, dtype=tf.float32)\n",
    "                                             #, initial_state=None\n",
    "    final_state = state         \n",
    "    \n",
    "    final_state = tf.identity(final_state, name='final_state')\n",
    "    return (outputs, final_state)\n",
    "\n",
    "\n",
    "\"\"\"\n",
    "DON'T MODIFY ANYTHING IN THIS CELL THAT IS BELOW THIS LINE\n",
    "\"\"\"\n",
    "tests.test_build_rnn(build_rnn)"
   ]
  },
  {
   "cell_type": "markdown",
   "metadata": {
    "deletable": true,
    "editable": true
   },
   "source": [
    "### Build the Neural Network\n",
    "Apply the functions you implemented above to:\n",
    "- Apply embedding to `input_data` using your `get_embed(input_data, vocab_size, embed_dim)` function.\n",
    "- Build RNN using `cell` and your `build_rnn(cell, inputs)` function.\n",
    "- Apply a fully connected layer with a linear activation and `vocab_size` as the number of outputs.\n",
    "\n",
    "Return the logits and final state in the following tuple (Logits, FinalState) "
   ]
  },
  {
   "cell_type": "code",
   "execution_count": 12,
   "metadata": {
    "collapsed": false,
    "deletable": true,
    "editable": true
   },
   "outputs": [
    {
     "name": "stdout",
     "output_type": "stream",
     "text": [
      "Tests Passed\n"
     ]
    }
   ],
   "source": [
    "def build_nn(cell, rnn_size, input_data, vocab_size, embed_dim):\n",
    "    \"\"\"\n",
    "    Build part of the neural network\n",
    "    :param cell: RNN cell\n",
    "    :param rnn_size: Size of rnns\n",
    "    :param input_data: Input data\n",
    "    :param vocab_size: Vocabulary size\n",
    "    :param embed_dim: Number of embedding dimensions\n",
    "    :return: Tuple (Logits, FinalState)\n",
    "    \"\"\"\n",
    "    \n",
    "    # Apply embedding\n",
    "    embed = get_embed(input_data, vocab_size, embed_dim)\n",
    "    \n",
    "    # Pass embeddings to existing input cell\n",
    "    outputs, final_state = build_rnn(cell, embed)\n",
    "    \n",
    "    # Build fully connected layer\n",
    "    \n",
    "    # Reshape output to a 2d matrix for matmul\n",
    "    with tf.name_scope('sequence_reshape'):\n",
    "        seq_output = tf.concat(outputs, axis=1,name='seq_output')\n",
    "        output = tf.reshape(seq_output, [-1, rnn_size], name='graph_output')\n",
    "    \n",
    "    # Now connect the RNN outputs to a softmax layer and calculate the cost\n",
    "    with tf.name_scope('fc_logits'):\n",
    "        logits_out = tf.contrib.layers.fully_connected(outputs, vocab_size, activation_fn=None)\n",
    "        \n",
    "    # TODO: manually build logits to make Tensorboard histograms    \n",
    "        #print (output.get_shape().as_list())\n",
    "        #softmax_w = tf.Variable(tf.truncated_normal((rnn_size, vocab_size), stddev=0.1),\n",
    "        #                       name='softmax_w')\n",
    "        #softmax_b = tf.Variable(tf.zeros(vocab_size), name='softmax_b')\n",
    "        #logits = tf.matmul(output, softmax_w, name ='matmul') + softmax_b\n",
    "        #tf.summary.histogram('softmax_w', softmax_w)\n",
    "        #tf.summary.histogram('softmax_b', softmax_b)\n",
    "        \n",
    "    ##tf.shape works at runtime, while input_data.get_shape() returns size from wrapper (None)\n",
    "    #input_shape = tf.shape(input_data)\n",
    "    #output_shape = [input_shape[0], input_shape[1], vocab_size]    \n",
    "        \n",
    "    #with tf.name_scope('logits_reshape'):\n",
    "    #    logits_out = tf.reshape(logits, output_shape, name='logits_out')\n",
    "    \n",
    "    return (logits_out, final_state)\n",
    "\n",
    "\n",
    "\"\"\"\n",
    "DON'T MODIFY ANYTHING IN THIS CELL THAT IS BELOW THIS LINE\n",
    "\"\"\"\n",
    "tests.test_build_nn(build_nn)"
   ]
  },
  {
   "cell_type": "markdown",
   "metadata": {
    "deletable": true,
    "editable": true
   },
   "source": [
    "### Batches\n",
    "Implement `get_batches` to create batches of input and targets using `int_text`.  The batches should be a Numpy array with the shape `(number of batches, 2, batch size, sequence length)`. Each batch contains two elements:\n",
    "- The first element is a single batch of **input** with the shape `[batch size, sequence length]`\n",
    "- The second element is a single batch of **targets** with the shape `[batch size, sequence length]`\n",
    "\n",
    "If you can't fill the last batch with enough data, drop the last batch.\n",
    "\n",
    "For exmple, `get_batches([1, 2, 3, 4, 5, 6, 7, 8, 9, 10, 11, 12, 13, 14, 15, 16, 17, 18, 19, 20], 3, 2)` would return a Numpy array of the following:\n",
    "```\n",
    "[\n",
    "  # First Batch\n",
    "  [\n",
    "    # Batch of Input\n",
    "    [[ 1  2], [ 7  8], [13 14]]\n",
    "    # Batch of targets\n",
    "    [[ 2  3], [ 8  9], [14 15]]\n",
    "  ]\n",
    "\n",
    "  # Second Batch\n",
    "  [\n",
    "    # Batch of Input\n",
    "    [[ 3  4], [ 9 10], [15 16]]\n",
    "    # Batch of targets\n",
    "    [[ 4  5], [10 11], [16 17]]\n",
    "  ]\n",
    "\n",
    "  # Third Batch\n",
    "  [\n",
    "    # Batch of Input\n",
    "    [[ 5  6], [11 12], [17 18]]\n",
    "    # Batch of targets\n",
    "    [[ 6  7], [12 13], [18  1]]\n",
    "  ]\n",
    "]\n",
    "```\n",
    "\n",
    "Notice that the last target value in the last batch is the first input value of the first batch. In this case, `1`. This is a common technique used when creating sequence batches, although it is rather unintuitive."
   ]
  },
  {
   "cell_type": "code",
   "execution_count": 13,
   "metadata": {
    "collapsed": false,
    "deletable": true,
    "editable": true
   },
   "outputs": [
    {
     "name": "stdout",
     "output_type": "stream",
     "text": [
      "Tests Passed\n"
     ]
    }
   ],
   "source": [
    "def get_batches(int_text, batch_size, seq_length):\n",
    "    \"\"\"\n",
    "    Return batches of input and target\n",
    "    :param int_text: Text with the words replaced by their ids\n",
    "    :param batch_size: The size of batch\n",
    "    :param seq_length: The length of sequence\n",
    "    :return: Batches as a Numpy array\n",
    "    \"\"\"\n",
    "    \n",
    "    # Get the number of characters per batch and number of batches we can make\n",
    "    text_length = len(int_text)\n",
    "    \n",
    "    characters_per_batch = batch_size * seq_length\n",
    "    n_batches = text_length//characters_per_batch\n",
    "    \n",
    "    text_length = n_batches * characters_per_batch\n",
    "    \n",
    "    # Keep only enough characters to make full batches\n",
    "    int_text = int_text[:text_length]\n",
    "    \n",
    "    # Reshape into sequences\n",
    "    x = np.array(int_text).reshape((batch_size, n_batches, seq_length))\n",
    "    \n",
    "    # create targets\n",
    "    # Use modulo to cycle shift one character\n",
    "    y = [int_text[(i+1)%text_length] for i in range(text_length)] \n",
    "    \n",
    "    # Reshape into sequences\n",
    "    y = np.array(y).reshape((batch_size, n_batches, seq_length))\n",
    "        \n",
    "    #batches = []\n",
    "    #for batch in range(n_batches):\n",
    "    #    in_seq = [x[seq][batch] for seq in range(batch_size)]\n",
    "    #    target_seq = [y[seq][batch] for seq in range(batch_size)]    \n",
    "    #    batches.append([in_seq, target_seq])    \n",
    "            #x = [x[seq][batch] for for seq in range(batch_size)]\n",
    "    \n",
    "    # Create batchs of input sequences and targets\n",
    "    # TODO: find more efficient way to avoid extra loop\n",
    "    batches = [[[x[seq][batch] for seq in range(batch_size)],\\\n",
    "                [y[seq][batch] for seq in range(batch_size)]] \\\n",
    "                   for batch in range(n_batches)]         \n",
    "            \n",
    "    return np.array(batches)\n",
    "\n",
    "\n",
    "\"\"\"\n",
    "DON'T MODIFY ANYTHING IN THIS CELL THAT IS BELOW THIS LINE\n",
    "\"\"\"\n",
    "tests.test_get_batches(get_batches)"
   ]
  },
  {
   "cell_type": "markdown",
   "metadata": {
    "deletable": true,
    "editable": true
   },
   "source": [
    "## Neural Network Training\n",
    "### Hyperparameters\n",
    "Tune the following parameters:\n",
    "\n",
    "- Set `num_epochs` to the number of epochs.\n",
    "- Set `batch_size` to the batch size.\n",
    "- Set `rnn_size` to the size of the RNNs.\n",
    "- Set `embed_dim` to the size of the embedding.\n",
    "- Set `seq_length` to the length of sequence.\n",
    "- Set `learning_rate` to the learning rate.\n",
    "- Set `show_every_n_batches` to the number of batches the neural network should print progress."
   ]
  },
  {
   "cell_type": "code",
   "execution_count": 31,
   "metadata": {
    "collapsed": true,
    "deletable": true,
    "editable": true
   },
   "outputs": [],
   "source": [
    "# Number of Epochs\n",
    "num_epochs = 500\n",
    "# Batch Size\n",
    "batch_size = 128\n",
    "# RNN Size\n",
    "rnn_size = 400\n",
    "# Embedding Dimension Size\n",
    "embed_dim = 350\n",
    "# Sequence Length\n",
    "seq_length = 32\n",
    "# Learning Rate\n",
    "learning_rate = 0.007\n",
    "# Show stats for every n number of batches\n",
    "show_every_n_batches = 10\n",
    "\n",
    "\n",
    "tf.reset_default_graph()\n",
    "\n",
    "\"\"\"\n",
    "DON'T MODIFY ANYTHING IN THIS CELL THAT IS BELOW THIS LINE\n",
    "\"\"\"\n",
    "save_dir = './save'"
   ]
  },
  {
   "cell_type": "markdown",
   "metadata": {
    "deletable": true,
    "editable": true
   },
   "source": [
    "### Build the Graph\n",
    "Build the graph using the neural network you implemented."
   ]
  },
  {
   "cell_type": "code",
   "execution_count": 32,
   "metadata": {
    "collapsed": true,
    "deletable": true,
    "editable": true
   },
   "outputs": [],
   "source": [
    "\"\"\"\n",
    "DON'T MODIFY ANYTHING IN THIS CELL\n",
    "\"\"\"\n",
    "from tensorflow.contrib import seq2seq\n",
    "\n",
    "train_graph = tf.Graph()\n",
    "with train_graph.as_default():\n",
    "    vocab_size = len(int_to_vocab)\n",
    "    input_text, targets, lr = get_inputs()\n",
    "    input_data_shape = tf.shape(input_text)\n",
    "    cell, initial_state = get_init_cell(input_data_shape[0], rnn_size)\n",
    "    logits, final_state = build_nn(cell, rnn_size, input_text, vocab_size, embed_dim)\n",
    "\n",
    "    # Probabilities for generating words\n",
    "    probs = tf.nn.softmax(logits, name='probs')\n",
    "\n",
    "    # Loss function\n",
    "    cost = seq2seq.sequence_loss(\n",
    "        logits,\n",
    "        targets,\n",
    "        tf.ones([input_data_shape[0], input_data_shape[1]]))\n",
    "\n",
    "    # Optimizer\n",
    "    optimizer = tf.train.AdamOptimizer(lr)\n",
    "\n",
    "    # Gradient Clipping\n",
    "    gradients = optimizer.compute_gradients(cost)\n",
    "    capped_gradients = [(tf.clip_by_value(grad, -1., 1.), var) for grad, var in gradients if grad is not None]\n",
    "    train_op = optimizer.apply_gradients(capped_gradients)"
   ]
  },
  {
   "cell_type": "markdown",
   "metadata": {
    "deletable": true,
    "editable": true
   },
   "source": [
    "## Train\n",
    "Train the neural network on the preprocessed data.  If you have a hard time getting a good loss, check the [forums](https://discussions.udacity.com/) to see if anyone is having the same problem."
   ]
  },
  {
   "cell_type": "code",
   "execution_count": 33,
   "metadata": {
    "collapsed": false,
    "deletable": true,
    "editable": true
   },
   "outputs": [
    {
     "name": "stdout",
     "output_type": "stream",
     "text": [
      "Epoch   0 Batch    0/5   train_loss = 8.821\n",
      "Epoch   2 Batch    0/5   train_loss = 6.387\n",
      "Epoch   4 Batch    0/5   train_loss = 6.100\n",
      "Epoch   6 Batch    0/5   train_loss = 6.016\n",
      "Epoch   8 Batch    0/5   train_loss = 6.029\n",
      "Epoch  10 Batch    0/5   train_loss = 6.018\n",
      "Epoch  12 Batch    0/5   train_loss = 5.997\n",
      "Epoch  14 Batch    0/5   train_loss = 5.988\n",
      "Epoch  16 Batch    0/5   train_loss = 5.944\n",
      "Epoch  18 Batch    0/5   train_loss = 5.898\n",
      "Epoch  20 Batch    0/5   train_loss = 5.853\n",
      "Epoch  22 Batch    0/5   train_loss = 5.825\n",
      "Epoch  24 Batch    0/5   train_loss = 5.789\n",
      "Epoch  26 Batch    0/5   train_loss = 5.776\n",
      "Epoch  28 Batch    0/5   train_loss = 5.735\n",
      "Epoch  30 Batch    0/5   train_loss = 5.706\n",
      "Epoch  32 Batch    0/5   train_loss = 5.663\n",
      "Epoch  34 Batch    0/5   train_loss = 5.625\n",
      "Epoch  36 Batch    0/5   train_loss = 5.571\n",
      "Epoch  38 Batch    0/5   train_loss = 5.527\n",
      "Epoch  40 Batch    0/5   train_loss = 5.487\n",
      "Epoch  42 Batch    0/5   train_loss = 5.422\n",
      "Epoch  44 Batch    0/5   train_loss = 5.367\n",
      "Epoch  46 Batch    0/5   train_loss = 5.296\n",
      "Epoch  48 Batch    0/5   train_loss = 5.229\n",
      "Epoch  50 Batch    0/5   train_loss = 5.182\n",
      "Epoch  52 Batch    0/5   train_loss = 5.144\n",
      "Epoch  54 Batch    0/5   train_loss = 5.104\n",
      "Epoch  56 Batch    0/5   train_loss = 5.067\n",
      "Epoch  58 Batch    0/5   train_loss = 5.025\n",
      "Epoch  60 Batch    0/5   train_loss = 5.005\n",
      "Epoch  62 Batch    0/5   train_loss = 4.941\n",
      "Epoch  64 Batch    0/5   train_loss = 4.897\n",
      "Epoch  66 Batch    0/5   train_loss = 4.838\n",
      "Epoch  68 Batch    0/5   train_loss = 4.796\n",
      "Epoch  70 Batch    0/5   train_loss = 4.719\n",
      "Epoch  72 Batch    0/5   train_loss = 4.656\n",
      "Epoch  74 Batch    0/5   train_loss = 4.595\n",
      "Epoch  76 Batch    0/5   train_loss = 4.531\n",
      "Epoch  78 Batch    0/5   train_loss = 4.481\n",
      "Epoch  80 Batch    0/5   train_loss = 4.419\n",
      "Epoch  82 Batch    0/5   train_loss = 4.375\n",
      "Epoch  84 Batch    0/5   train_loss = 4.297\n",
      "Epoch  86 Batch    0/5   train_loss = 4.242\n",
      "Epoch  88 Batch    0/5   train_loss = 4.207\n",
      "Epoch  90 Batch    0/5   train_loss = 4.173\n",
      "Epoch  92 Batch    0/5   train_loss = 4.091\n",
      "Epoch  94 Batch    0/5   train_loss = 4.037\n",
      "Epoch  96 Batch    0/5   train_loss = 3.978\n",
      "Epoch  98 Batch    0/5   train_loss = 3.923\n",
      "Epoch 100 Batch    0/5   train_loss = 3.868\n",
      "Epoch 102 Batch    0/5   train_loss = 3.812\n",
      "Epoch 104 Batch    0/5   train_loss = 3.752\n",
      "Epoch 106 Batch    0/5   train_loss = 3.710\n",
      "Epoch 108 Batch    0/5   train_loss = 3.634\n",
      "Epoch 110 Batch    0/5   train_loss = 3.581\n",
      "Epoch 112 Batch    0/5   train_loss = 3.534\n",
      "Epoch 114 Batch    0/5   train_loss = 3.457\n",
      "Epoch 116 Batch    0/5   train_loss = 3.421\n",
      "Epoch 118 Batch    0/5   train_loss = 3.338\n",
      "Epoch 120 Batch    0/5   train_loss = 3.289\n",
      "Epoch 122 Batch    0/5   train_loss = 3.234\n",
      "Epoch 124 Batch    0/5   train_loss = 3.170\n",
      "Epoch 126 Batch    0/5   train_loss = 3.110\n",
      "Epoch 128 Batch    0/5   train_loss = 3.103\n",
      "Epoch 130 Batch    0/5   train_loss = 3.004\n",
      "Epoch 132 Batch    0/5   train_loss = 2.950\n",
      "Epoch 134 Batch    0/5   train_loss = 2.875\n",
      "Epoch 136 Batch    0/5   train_loss = 2.813\n",
      "Epoch 138 Batch    0/5   train_loss = 2.747\n",
      "Epoch 140 Batch    0/5   train_loss = 2.695\n",
      "Epoch 142 Batch    0/5   train_loss = 2.677\n",
      "Epoch 144 Batch    0/5   train_loss = 2.622\n",
      "Epoch 146 Batch    0/5   train_loss = 2.561\n",
      "Epoch 148 Batch    0/5   train_loss = 2.536\n",
      "Epoch 150 Batch    0/5   train_loss = 2.469\n",
      "Epoch 152 Batch    0/5   train_loss = 2.399\n",
      "Epoch 154 Batch    0/5   train_loss = 2.361\n",
      "Epoch 156 Batch    0/5   train_loss = 2.313\n",
      "Epoch 158 Batch    0/5   train_loss = 2.263\n",
      "Epoch 160 Batch    0/5   train_loss = 2.232\n",
      "Epoch 162 Batch    0/5   train_loss = 2.191\n",
      "Epoch 164 Batch    0/5   train_loss = 2.147\n",
      "Epoch 166 Batch    0/5   train_loss = 2.112\n",
      "Epoch 168 Batch    0/5   train_loss = 2.076\n",
      "Epoch 170 Batch    0/5   train_loss = 2.035\n",
      "Epoch 172 Batch    0/5   train_loss = 1.989\n",
      "Epoch 174 Batch    0/5   train_loss = 1.955\n",
      "Epoch 176 Batch    0/5   train_loss = 1.935\n",
      "Epoch 178 Batch    0/5   train_loss = 1.885\n",
      "Epoch 180 Batch    0/5   train_loss = 1.854\n",
      "Epoch 182 Batch    0/5   train_loss = 1.827\n",
      "Epoch 184 Batch    0/5   train_loss = 1.788\n",
      "Epoch 186 Batch    0/5   train_loss = 1.752\n",
      "Epoch 188 Batch    0/5   train_loss = 1.724\n",
      "Epoch 190 Batch    0/5   train_loss = 1.701\n",
      "Epoch 192 Batch    0/5   train_loss = 1.679\n",
      "Epoch 194 Batch    0/5   train_loss = 1.685\n",
      "Epoch 196 Batch    0/5   train_loss = 1.623\n",
      "Epoch 198 Batch    0/5   train_loss = 1.596\n",
      "Epoch 200 Batch    0/5   train_loss = 1.572\n",
      "Epoch 202 Batch    0/5   train_loss = 1.517\n",
      "Epoch 204 Batch    0/5   train_loss = 1.525\n",
      "Epoch 206 Batch    0/5   train_loss = 1.511\n",
      "Epoch 208 Batch    0/5   train_loss = 1.491\n",
      "Epoch 210 Batch    0/5   train_loss = 1.473\n",
      "Epoch 212 Batch    0/5   train_loss = 1.424\n",
      "Epoch 214 Batch    0/5   train_loss = 1.418\n",
      "Epoch 216 Batch    0/5   train_loss = 1.387\n",
      "Epoch 218 Batch    0/5   train_loss = 1.338\n",
      "Epoch 220 Batch    0/5   train_loss = 1.351\n",
      "Epoch 222 Batch    0/5   train_loss = 1.330\n",
      "Epoch 224 Batch    0/5   train_loss = 1.311\n",
      "Epoch 226 Batch    0/5   train_loss = 1.262\n",
      "Epoch 228 Batch    0/5   train_loss = 1.283\n",
      "Epoch 230 Batch    0/5   train_loss = 1.266\n",
      "Epoch 232 Batch    0/5   train_loss = 1.231\n",
      "Epoch 234 Batch    0/5   train_loss = 1.214\n",
      "Epoch 236 Batch    0/5   train_loss = 1.193\n",
      "Epoch 238 Batch    0/5   train_loss = 1.184\n",
      "Epoch 240 Batch    0/5   train_loss = 1.139\n",
      "Epoch 242 Batch    0/5   train_loss = 1.145\n",
      "Epoch 244 Batch    0/5   train_loss = 1.144\n",
      "Epoch 246 Batch    0/5   train_loss = 1.145\n",
      "Epoch 248 Batch    0/5   train_loss = 1.108\n",
      "Epoch 250 Batch    0/5   train_loss = 1.099\n",
      "Epoch 252 Batch    0/5   train_loss = 1.069\n",
      "Epoch 254 Batch    0/5   train_loss = 1.068\n",
      "Epoch 256 Batch    0/5   train_loss = 1.034\n",
      "Epoch 258 Batch    0/5   train_loss = 1.028\n",
      "Epoch 260 Batch    0/5   train_loss = 0.996\n",
      "Epoch 262 Batch    0/5   train_loss = 0.985\n",
      "Epoch 264 Batch    0/5   train_loss = 0.973\n",
      "Epoch 266 Batch    0/5   train_loss = 0.997\n",
      "Epoch 268 Batch    0/5   train_loss = 1.001\n",
      "Epoch 270 Batch    0/5   train_loss = 0.964\n",
      "Epoch 272 Batch    0/5   train_loss = 0.964\n",
      "Epoch 274 Batch    0/5   train_loss = 0.939\n",
      "Epoch 276 Batch    0/5   train_loss = 0.921\n",
      "Epoch 278 Batch    0/5   train_loss = 0.901\n",
      "Epoch 280 Batch    0/5   train_loss = 0.907\n",
      "Epoch 282 Batch    0/5   train_loss = 0.867\n",
      "Epoch 284 Batch    0/5   train_loss = 0.867\n",
      "Epoch 286 Batch    0/5   train_loss = 0.873\n",
      "Epoch 288 Batch    0/5   train_loss = 0.884\n",
      "Epoch 290 Batch    0/5   train_loss = 0.859\n",
      "Epoch 292 Batch    0/5   train_loss = 0.836\n",
      "Epoch 294 Batch    0/5   train_loss = 0.814\n",
      "Epoch 296 Batch    0/5   train_loss = 0.816\n",
      "Epoch 298 Batch    0/5   train_loss = 0.819\n",
      "Epoch 300 Batch    0/5   train_loss = 0.795\n",
      "Epoch 302 Batch    0/5   train_loss = 0.796\n",
      "Epoch 304 Batch    0/5   train_loss = 0.777\n",
      "Epoch 306 Batch    0/5   train_loss = 0.797\n",
      "Epoch 308 Batch    0/5   train_loss = 0.768\n",
      "Epoch 310 Batch    0/5   train_loss = 0.779\n",
      "Epoch 312 Batch    0/5   train_loss = 0.758\n",
      "Epoch 314 Batch    0/5   train_loss = 0.753\n",
      "Epoch 316 Batch    0/5   train_loss = 0.733\n",
      "Epoch 318 Batch    0/5   train_loss = 0.719\n",
      "Epoch 320 Batch    0/5   train_loss = 0.707\n",
      "Epoch 322 Batch    0/5   train_loss = 0.695\n",
      "Epoch 324 Batch    0/5   train_loss = 0.687\n",
      "Epoch 326 Batch    0/5   train_loss = 0.689\n",
      "Epoch 328 Batch    0/5   train_loss = 0.694\n",
      "Epoch 330 Batch    0/5   train_loss = 0.672\n",
      "Epoch 332 Batch    0/5   train_loss = 0.666\n",
      "Epoch 334 Batch    0/5   train_loss = 0.667\n",
      "Epoch 336 Batch    0/5   train_loss = 0.671\n",
      "Epoch 338 Batch    0/5   train_loss = 0.652\n",
      "Epoch 340 Batch    0/5   train_loss = 0.674\n",
      "Epoch 342 Batch    0/5   train_loss = 0.656\n",
      "Epoch 344 Batch    0/5   train_loss = 0.643\n",
      "Epoch 346 Batch    0/5   train_loss = 0.625\n",
      "Epoch 348 Batch    0/5   train_loss = 0.624\n",
      "Epoch 350 Batch    0/5   train_loss = 0.626\n",
      "Epoch 352 Batch    0/5   train_loss = 0.616\n",
      "Epoch 354 Batch    0/5   train_loss = 0.610\n",
      "Epoch 356 Batch    0/5   train_loss = 0.603\n",
      "Epoch 358 Batch    0/5   train_loss = 0.590\n",
      "Epoch 360 Batch    0/5   train_loss = 0.591\n",
      "Epoch 362 Batch    0/5   train_loss = 0.587\n",
      "Epoch 364 Batch    0/5   train_loss = 0.593\n",
      "Epoch 366 Batch    0/5   train_loss = 0.589\n",
      "Epoch 368 Batch    0/5   train_loss = 0.583\n",
      "Epoch 370 Batch    0/5   train_loss = 0.560\n",
      "Epoch 372 Batch    0/5   train_loss = 0.569\n",
      "Epoch 374 Batch    0/5   train_loss = 0.559\n",
      "Epoch 376 Batch    0/5   train_loss = 0.561\n",
      "Epoch 378 Batch    0/5   train_loss = 0.563\n",
      "Epoch 380 Batch    0/5   train_loss = 0.544\n",
      "Epoch 382 Batch    0/5   train_loss = 0.539\n",
      "Epoch 384 Batch    0/5   train_loss = 0.544\n",
      "Epoch 386 Batch    0/5   train_loss = 0.537\n",
      "Epoch 388 Batch    0/5   train_loss = 0.543\n",
      "Epoch 390 Batch    0/5   train_loss = 0.525\n",
      "Epoch 392 Batch    0/5   train_loss = 0.514\n",
      "Epoch 394 Batch    0/5   train_loss = 0.534\n",
      "Epoch 396 Batch    0/5   train_loss = 0.531\n",
      "Epoch 398 Batch    0/5   train_loss = 0.501\n",
      "Epoch 400 Batch    0/5   train_loss = 0.494\n",
      "Epoch 402 Batch    0/5   train_loss = 0.511\n",
      "Epoch 404 Batch    0/5   train_loss = 0.497\n",
      "Epoch 406 Batch    0/5   train_loss = 0.495\n",
      "Epoch 408 Batch    0/5   train_loss = 0.492\n",
      "Epoch 410 Batch    0/5   train_loss = 0.477\n",
      "Epoch 412 Batch    0/5   train_loss = 0.478\n",
      "Epoch 414 Batch    0/5   train_loss = 0.484\n",
      "Epoch 416 Batch    0/5   train_loss = 0.482\n",
      "Epoch 418 Batch    0/5   train_loss = 0.466\n",
      "Epoch 420 Batch    0/5   train_loss = 0.485\n",
      "Epoch 422 Batch    0/5   train_loss = 0.470\n",
      "Epoch 424 Batch    0/5   train_loss = 0.473\n",
      "Epoch 426 Batch    0/5   train_loss = 0.467\n",
      "Epoch 428 Batch    0/5   train_loss = 0.476\n",
      "Epoch 430 Batch    0/5   train_loss = 0.452\n",
      "Epoch 432 Batch    0/5   train_loss = 0.468\n",
      "Epoch 434 Batch    0/5   train_loss = 0.455\n",
      "Epoch 436 Batch    0/5   train_loss = 0.458\n",
      "Epoch 438 Batch    0/5   train_loss = 0.449\n",
      "Epoch 440 Batch    0/5   train_loss = 0.452\n",
      "Epoch 442 Batch    0/5   train_loss = 0.446\n",
      "Epoch 444 Batch    0/5   train_loss = 0.422\n",
      "Epoch 446 Batch    0/5   train_loss = 0.423\n",
      "Epoch 448 Batch    0/5   train_loss = 0.433\n",
      "Epoch 450 Batch    0/5   train_loss = 0.421\n",
      "Epoch 452 Batch    0/5   train_loss = 0.417\n",
      "Epoch 454 Batch    0/5   train_loss = 0.441\n",
      "Epoch 456 Batch    0/5   train_loss = 0.428\n",
      "Epoch 458 Batch    0/5   train_loss = 0.421\n",
      "Epoch 460 Batch    0/5   train_loss = 0.426\n",
      "Epoch 462 Batch    0/5   train_loss = 0.424\n",
      "Epoch 464 Batch    0/5   train_loss = 0.423\n",
      "Epoch 466 Batch    0/5   train_loss = 0.416\n",
      "Epoch 468 Batch    0/5   train_loss = 0.415\n",
      "Epoch 470 Batch    0/5   train_loss = 0.408\n",
      "Epoch 472 Batch    0/5   train_loss = 0.401\n",
      "Epoch 474 Batch    0/5   train_loss = 0.400\n",
      "Epoch 476 Batch    0/5   train_loss = 0.407\n",
      "Epoch 478 Batch    0/5   train_loss = 0.406\n",
      "Epoch 480 Batch    0/5   train_loss = 0.405\n",
      "Epoch 482 Batch    0/5   train_loss = 0.401\n",
      "Epoch 484 Batch    0/5   train_loss = 0.392\n",
      "Epoch 486 Batch    0/5   train_loss = 0.391\n",
      "Epoch 488 Batch    0/5   train_loss = 0.394\n",
      "Epoch 490 Batch    0/5   train_loss = 0.408\n",
      "Epoch 492 Batch    0/5   train_loss = 0.394\n",
      "Epoch 494 Batch    0/5   train_loss = 0.375\n",
      "Epoch 496 Batch    0/5   train_loss = 0.385\n",
      "Epoch 498 Batch    0/5   train_loss = 0.396\n",
      "Model Trained and Saved\n"
     ]
    }
   ],
   "source": [
    "\"\"\"\n",
    "DON'T MODIFY ANYTHING IN THIS CELL\n",
    "\"\"\"\n",
    "batches = get_batches(int_text, batch_size, seq_length)\n",
    "\n",
    "with tf.Session(graph=train_graph) as sess:\n",
    "    sess.run(tf.global_variables_initializer())\n",
    "\n",
    "    for epoch_i in range(num_epochs):\n",
    "        state = sess.run(initial_state, {input_text: batches[0][0]})\n",
    "\n",
    "        for batch_i, (x, y) in enumerate(batches):\n",
    "            feed = {\n",
    "                input_text: x,\n",
    "                targets: y,\n",
    "                initial_state: state,\n",
    "                lr: learning_rate}\n",
    "            train_loss, state, _ = sess.run([cost, final_state, train_op], feed)\n",
    "\n",
    "            # Show every <show_every_n_batches> batches\n",
    "            if (epoch_i * len(batches) + batch_i) % show_every_n_batches == 0:\n",
    "                print('Epoch {:>3} Batch {:>4}/{}   train_loss = {:.3f}'.format(\n",
    "                    epoch_i,\n",
    "                    batch_i,\n",
    "                    len(batches),\n",
    "                    train_loss))\n",
    "\n",
    "    # Save Model\n",
    "    saver = tf.train.Saver()\n",
    "    saver.save(sess, save_dir)\n",
    "    print('Model Trained and Saved')"
   ]
  },
  {
   "cell_type": "markdown",
   "metadata": {
    "deletable": true,
    "editable": true
   },
   "source": [
    "## Save Parameters\n",
    "Save `seq_length` and `save_dir` for generating a new TV script."
   ]
  },
  {
   "cell_type": "code",
   "execution_count": 34,
   "metadata": {
    "collapsed": true,
    "deletable": true,
    "editable": true
   },
   "outputs": [],
   "source": [
    "\"\"\"\n",
    "DON'T MODIFY ANYTHING IN THIS CELL\n",
    "\"\"\"\n",
    "# Save parameters for checkpoint\n",
    "helper.save_params((seq_length, save_dir))"
   ]
  },
  {
   "cell_type": "markdown",
   "metadata": {
    "deletable": true,
    "editable": true
   },
   "source": [
    "# Checkpoint"
   ]
  },
  {
   "cell_type": "code",
   "execution_count": 35,
   "metadata": {
    "collapsed": true,
    "deletable": true,
    "editable": true
   },
   "outputs": [],
   "source": [
    "\"\"\"\n",
    "DON'T MODIFY ANYTHING IN THIS CELL\n",
    "\"\"\"\n",
    "import tensorflow as tf\n",
    "import numpy as np\n",
    "import helper\n",
    "import problem_unittests as tests\n",
    "\n",
    "_, vocab_to_int, int_to_vocab, token_dict = helper.load_preprocess()\n",
    "seq_length, load_dir = helper.load_params()"
   ]
  },
  {
   "cell_type": "markdown",
   "metadata": {
    "deletable": true,
    "editable": true
   },
   "source": [
    "## Implement Generate Functions\n",
    "### Get Tensors\n",
    "Get tensors from `loaded_graph` using the function [`get_tensor_by_name()`](https://www.tensorflow.org/api_docs/python/tf/Graph#get_tensor_by_name).  Get the tensors using the following names:\n",
    "- \"input:0\"\n",
    "- \"initial_state:0\"\n",
    "- \"final_state:0\"\n",
    "- \"probs:0\"\n",
    "\n",
    "Return the tensors in the following tuple `(InputTensor, InitialStateTensor, FinalStateTensor, ProbsTensor)` "
   ]
  },
  {
   "cell_type": "code",
   "execution_count": 36,
   "metadata": {
    "collapsed": false,
    "deletable": true,
    "editable": true
   },
   "outputs": [
    {
     "name": "stdout",
     "output_type": "stream",
     "text": [
      "Tests Passed\n"
     ]
    }
   ],
   "source": [
    "def get_tensors(loaded_graph):\n",
    "    \"\"\"\n",
    "    Get input, initial state, final state, and probabilities tensor from <loaded_graph>\n",
    "    :param loaded_graph: TensorFlow graph loaded from file\n",
    "    :return: Tuple (InputTensor, InitialStateTensor, FinalStateTensor, ProbsTensor)\n",
    "    \"\"\"\n",
    "    # make calls to loaded_graph.get_tensor_by_name()\n",
    "    input_tensor = loaded_graph.get_tensor_by_name('input:0')\n",
    "    initial_state_tensor = loaded_graph.get_tensor_by_name('initial_state:0')\n",
    "    fina_staet_tensor = loaded_graph.get_tensor_by_name('final_state:0')\n",
    "    probs_tensor = loaded_graph.get_tensor_by_name('probs:0')\n",
    "    \n",
    "    return (input_tensor, initial_state_tensor, fina_staet_tensor, probs_tensor)\n",
    "\n",
    "\n",
    "\"\"\"\n",
    "DON'T MODIFY ANYTHING IN THIS CELL THAT IS BELOW THIS LINE\n",
    "\"\"\"\n",
    "tests.test_get_tensors(get_tensors)"
   ]
  },
  {
   "cell_type": "markdown",
   "metadata": {
    "deletable": true,
    "editable": true
   },
   "source": [
    "### Choose Word\n",
    "Implement the `pick_word()` function to select the next word using `probabilities`."
   ]
  },
  {
   "cell_type": "code",
   "execution_count": 37,
   "metadata": {
    "collapsed": false,
    "deletable": true,
    "editable": true
   },
   "outputs": [
    {
     "name": "stdout",
     "output_type": "stream",
     "text": [
      "Tests Passed\n"
     ]
    }
   ],
   "source": [
    "def pick_word(probabilities, int_to_vocab):\n",
    "    \"\"\"\n",
    "    Pick the next word in the generated text\n",
    "    :param probabilities: Probabilites of the next word\n",
    "    :param int_to_vocab: Dictionary of word ids as the keys and words as the values\n",
    "    :return: String of the predicted word\n",
    "    \"\"\"\n",
    "    \n",
    "    # Return word with highest probability using np.argmax()\n",
    "    return int_to_vocab[np.argmax(probabilities)]\n",
    "\n",
    "\n",
    "\"\"\"\n",
    "DON'T MODIFY ANYTHING IN THIS CELL THAT IS BELOW THIS LINE\n",
    "\"\"\"\n",
    "tests.test_pick_word(pick_word)"
   ]
  },
  {
   "cell_type": "markdown",
   "metadata": {
    "deletable": true,
    "editable": true
   },
   "source": [
    "## Generate TV Script\n",
    "This will generate the TV script for you.  Set `gen_length` to the length of TV script you want to generate."
   ]
  },
  {
   "cell_type": "code",
   "execution_count": 38,
   "metadata": {
    "collapsed": false,
    "deletable": true,
    "editable": true
   },
   "outputs": [
    {
     "name": "stdout",
     "output_type": "stream",
     "text": [
      "moe_szyslak: power off, einstein.\n",
      "moe_szyslak: yeah, oh, that's why i'm staying!\n",
      "moe_szyslak: yeah, uh, appendectomy, lipo, or(excited) oh, right. simpson, i've been defeated by the old man it's not like they come out for sense.\n",
      "lenny_leonard: plus i'd like to check there we will.\n",
      "bum:(to dog) you, marge is right.\n",
      "moe_szyslak: aw, c'mon.(warmly) a man who'll keep a tanked-up loser? was that i do?\n",
      "barney_gumble:(pleased) hey, guys, i got a duff / routine?\n",
      "seymour_skinner: okay. private kicked college too much, but i ain't welcome lookin' down to the field is got from one cameras.\n",
      "moe_szyslak: uh, hey, ya think of silent ask of a girl, homer today?\n",
      "barney_gumble: no.(turns to barflies) homer, here it blame for that.\n",
      "homer_simpson:(scoffs sign and twins of half too to homer...\n",
      "agnes_skinner: nothin', there's course i've never had a good book\n"
     ]
    }
   ],
   "source": [
    "gen_length = 200\n",
    "# homer_simpson, moe_szyslak, or Barney_Gumble\n",
    "prime_word = 'moe_szyslak'\n",
    "\n",
    "\"\"\"\n",
    "DON'T MODIFY ANYTHING IN THIS CELL THAT IS BELOW THIS LINE\n",
    "\"\"\"\n",
    "loaded_graph = tf.Graph()\n",
    "with tf.Session(graph=loaded_graph) as sess:\n",
    "    # Load saved model\n",
    "    loader = tf.train.import_meta_graph(load_dir + '.meta')\n",
    "    loader.restore(sess, load_dir)\n",
    "\n",
    "    # Get Tensors from loaded model\n",
    "    input_text, initial_state, final_state, probs = get_tensors(loaded_graph)\n",
    "\n",
    "    # Sentences generation setup\n",
    "    gen_sentences = [prime_word + ':']\n",
    "    prev_state = sess.run(initial_state, {input_text: np.array([[1]])})\n",
    "\n",
    "    # Generate sentences\n",
    "    for n in range(gen_length):\n",
    "        # Dynamic Input\n",
    "        dyn_input = [[vocab_to_int[word] for word in gen_sentences[-seq_length:]]]\n",
    "        dyn_seq_length = len(dyn_input[0])\n",
    "\n",
    "        # Get Prediction\n",
    "        probabilities, prev_state = sess.run(\n",
    "            [probs, final_state],\n",
    "            {input_text: dyn_input, initial_state: prev_state})\n",
    "        \n",
    "        pred_word = pick_word(probabilities[dyn_seq_length-1], int_to_vocab)\n",
    "\n",
    "        gen_sentences.append(pred_word)\n",
    "    \n",
    "    # Remove tokens\n",
    "    tv_script = ' '.join(gen_sentences)\n",
    "    for key, token in token_dict.items():\n",
    "        ending = ' ' if key in ['\\n', '(', '\"'] else ''\n",
    "        tv_script = tv_script.replace(' ' + token.lower(), key)\n",
    "    tv_script = tv_script.replace('\\n ', '\\n')\n",
    "    tv_script = tv_script.replace('( ', '(')\n",
    "        \n",
    "    print(tv_script)"
   ]
  },
  {
   "cell_type": "markdown",
   "metadata": {
    "deletable": true,
    "editable": true
   },
   "source": [
    "# The TV Script is Nonsensical\n",
    "It's ok if the TV script doesn't make any sense.  We trained on less than a megabyte of text.  In order to get good results, you'll have to use a smaller vocabulary or get more data.  Luckly there's more data!  As we mentioned in the begging of this project, this is a subset of [another dataset](https://www.kaggle.com/wcukierski/the-simpsons-by-the-data).  We didn't have you train on all the data, because that would take too long.  However, you are free to train your neural network on all the data.  After you complete the project, of course.\n",
    "# Submitting This Project\n",
    "When submitting this project, make sure to run all the cells before saving the notebook. Save the notebook file as \"dlnd_tv_script_generation.ipynb\" and save it as a HTML file under \"File\" -> \"Download as\". Include the \"helper.py\" and \"problem_unittests.py\" files in your submission."
   ]
  }
 ],
 "metadata": {
  "kernelspec": {
   "display_name": "Python 2",
   "language": "python",
   "name": "python2"
  },
  "language_info": {
   "codemirror_mode": {
    "name": "ipython",
    "version": 2
   },
   "file_extension": ".py",
   "mimetype": "text/x-python",
   "name": "python",
   "nbconvert_exporter": "python",
   "pygments_lexer": "ipython2",
   "version": "2.7.13"
  },
  "widgets": {
   "state": {},
   "version": "1.1.2"
  }
 },
 "nbformat": 4,
 "nbformat_minor": 1
}
